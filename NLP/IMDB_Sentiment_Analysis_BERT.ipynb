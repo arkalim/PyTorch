{
  "nbformat": 4,
  "nbformat_minor": 0,
  "metadata": {
    "colab": {
      "name": "IMDB Sentiment Analysis BERT",
      "provenance": [],
      "collapsed_sections": []
    },
    "kernelspec": {
      "name": "python3",
      "display_name": "Python 3"
    },
    "accelerator": "GPU",
    "widgets": {
      "application/vnd.jupyter.widget-state+json": {
        "cd41deb1bf8b439f9f291d957a22cb00": {
          "model_module": "@jupyter-widgets/controls",
          "model_name": "HBoxModel",
          "state": {
            "_view_name": "HBoxView",
            "_dom_classes": [],
            "_model_name": "HBoxModel",
            "_view_module": "@jupyter-widgets/controls",
            "_model_module_version": "1.5.0",
            "_view_count": null,
            "_view_module_version": "1.5.0",
            "box_style": "",
            "layout": "IPY_MODEL_30bcaf7fb2774ecaaca80c8fcb48a5b2",
            "_model_module": "@jupyter-widgets/controls",
            "children": [
              "IPY_MODEL_0646d68d6619406ebafd10b93ba13103",
              "IPY_MODEL_88d09cd76fb94a06b68a71f7c1f62411"
            ]
          }
        },
        "30bcaf7fb2774ecaaca80c8fcb48a5b2": {
          "model_module": "@jupyter-widgets/base",
          "model_name": "LayoutModel",
          "state": {
            "_view_name": "LayoutView",
            "grid_template_rows": null,
            "right": null,
            "justify_content": null,
            "_view_module": "@jupyter-widgets/base",
            "overflow": null,
            "_model_module_version": "1.2.0",
            "_view_count": null,
            "flex_flow": null,
            "width": null,
            "min_width": null,
            "border": null,
            "align_items": null,
            "bottom": null,
            "_model_module": "@jupyter-widgets/base",
            "top": null,
            "grid_column": null,
            "overflow_y": null,
            "overflow_x": null,
            "grid_auto_flow": null,
            "grid_area": null,
            "grid_template_columns": null,
            "flex": null,
            "_model_name": "LayoutModel",
            "justify_items": null,
            "grid_row": null,
            "max_height": null,
            "align_content": null,
            "visibility": null,
            "align_self": null,
            "height": null,
            "min_height": null,
            "padding": null,
            "grid_auto_rows": null,
            "grid_gap": null,
            "max_width": null,
            "order": null,
            "_view_module_version": "1.2.0",
            "grid_template_areas": null,
            "object_position": null,
            "object_fit": null,
            "grid_auto_columns": null,
            "margin": null,
            "display": null,
            "left": null
          }
        },
        "0646d68d6619406ebafd10b93ba13103": {
          "model_module": "@jupyter-widgets/controls",
          "model_name": "IntProgressModel",
          "state": {
            "_view_name": "ProgressView",
            "style": "IPY_MODEL_784ed48e1bcb498895a2e51ca414d11d",
            "_dom_classes": [],
            "description": "Downloading: 100%",
            "_model_name": "IntProgressModel",
            "bar_style": "success",
            "max": 213450,
            "_view_module": "@jupyter-widgets/controls",
            "_model_module_version": "1.5.0",
            "value": 213450,
            "_view_count": null,
            "_view_module_version": "1.5.0",
            "orientation": "horizontal",
            "min": 0,
            "description_tooltip": null,
            "_model_module": "@jupyter-widgets/controls",
            "layout": "IPY_MODEL_7388edf2b4b04999981baf5e40c3f289"
          }
        },
        "88d09cd76fb94a06b68a71f7c1f62411": {
          "model_module": "@jupyter-widgets/controls",
          "model_name": "HTMLModel",
          "state": {
            "_view_name": "HTMLView",
            "style": "IPY_MODEL_1981c5c74fb240a3b10f18062c0d9faa",
            "_dom_classes": [],
            "description": "",
            "_model_name": "HTMLModel",
            "placeholder": "​",
            "_view_module": "@jupyter-widgets/controls",
            "_model_module_version": "1.5.0",
            "value": " 213k/213k [00:00&lt;00:00, 280kB/s]",
            "_view_count": null,
            "_view_module_version": "1.5.0",
            "description_tooltip": null,
            "_model_module": "@jupyter-widgets/controls",
            "layout": "IPY_MODEL_1b02b80f25464ace9305905247245e82"
          }
        },
        "784ed48e1bcb498895a2e51ca414d11d": {
          "model_module": "@jupyter-widgets/controls",
          "model_name": "ProgressStyleModel",
          "state": {
            "_view_name": "StyleView",
            "_model_name": "ProgressStyleModel",
            "description_width": "initial",
            "_view_module": "@jupyter-widgets/base",
            "_model_module_version": "1.5.0",
            "_view_count": null,
            "_view_module_version": "1.2.0",
            "bar_color": null,
            "_model_module": "@jupyter-widgets/controls"
          }
        },
        "7388edf2b4b04999981baf5e40c3f289": {
          "model_module": "@jupyter-widgets/base",
          "model_name": "LayoutModel",
          "state": {
            "_view_name": "LayoutView",
            "grid_template_rows": null,
            "right": null,
            "justify_content": null,
            "_view_module": "@jupyter-widgets/base",
            "overflow": null,
            "_model_module_version": "1.2.0",
            "_view_count": null,
            "flex_flow": null,
            "width": null,
            "min_width": null,
            "border": null,
            "align_items": null,
            "bottom": null,
            "_model_module": "@jupyter-widgets/base",
            "top": null,
            "grid_column": null,
            "overflow_y": null,
            "overflow_x": null,
            "grid_auto_flow": null,
            "grid_area": null,
            "grid_template_columns": null,
            "flex": null,
            "_model_name": "LayoutModel",
            "justify_items": null,
            "grid_row": null,
            "max_height": null,
            "align_content": null,
            "visibility": null,
            "align_self": null,
            "height": null,
            "min_height": null,
            "padding": null,
            "grid_auto_rows": null,
            "grid_gap": null,
            "max_width": null,
            "order": null,
            "_view_module_version": "1.2.0",
            "grid_template_areas": null,
            "object_position": null,
            "object_fit": null,
            "grid_auto_columns": null,
            "margin": null,
            "display": null,
            "left": null
          }
        },
        "1981c5c74fb240a3b10f18062c0d9faa": {
          "model_module": "@jupyter-widgets/controls",
          "model_name": "DescriptionStyleModel",
          "state": {
            "_view_name": "StyleView",
            "_model_name": "DescriptionStyleModel",
            "description_width": "",
            "_view_module": "@jupyter-widgets/base",
            "_model_module_version": "1.5.0",
            "_view_count": null,
            "_view_module_version": "1.2.0",
            "_model_module": "@jupyter-widgets/controls"
          }
        },
        "1b02b80f25464ace9305905247245e82": {
          "model_module": "@jupyter-widgets/base",
          "model_name": "LayoutModel",
          "state": {
            "_view_name": "LayoutView",
            "grid_template_rows": null,
            "right": null,
            "justify_content": null,
            "_view_module": "@jupyter-widgets/base",
            "overflow": null,
            "_model_module_version": "1.2.0",
            "_view_count": null,
            "flex_flow": null,
            "width": null,
            "min_width": null,
            "border": null,
            "align_items": null,
            "bottom": null,
            "_model_module": "@jupyter-widgets/base",
            "top": null,
            "grid_column": null,
            "overflow_y": null,
            "overflow_x": null,
            "grid_auto_flow": null,
            "grid_area": null,
            "grid_template_columns": null,
            "flex": null,
            "_model_name": "LayoutModel",
            "justify_items": null,
            "grid_row": null,
            "max_height": null,
            "align_content": null,
            "visibility": null,
            "align_self": null,
            "height": null,
            "min_height": null,
            "padding": null,
            "grid_auto_rows": null,
            "grid_gap": null,
            "max_width": null,
            "order": null,
            "_view_module_version": "1.2.0",
            "grid_template_areas": null,
            "object_position": null,
            "object_fit": null,
            "grid_auto_columns": null,
            "margin": null,
            "display": null,
            "left": null
          }
        },
        "7049962d1819476c81ae039d1507410e": {
          "model_module": "@jupyter-widgets/controls",
          "model_name": "HBoxModel",
          "state": {
            "_view_name": "HBoxView",
            "_dom_classes": [],
            "_model_name": "HBoxModel",
            "_view_module": "@jupyter-widgets/controls",
            "_model_module_version": "1.5.0",
            "_view_count": null,
            "_view_module_version": "1.5.0",
            "box_style": "",
            "layout": "IPY_MODEL_a20aa03def4c45cbbd1080db8f32a8a3",
            "_model_module": "@jupyter-widgets/controls",
            "children": [
              "IPY_MODEL_b5d183a1e28141229c65abdd9901a067",
              "IPY_MODEL_51ae96ccf72f42eda5fabcad693a57e3"
            ]
          }
        },
        "a20aa03def4c45cbbd1080db8f32a8a3": {
          "model_module": "@jupyter-widgets/base",
          "model_name": "LayoutModel",
          "state": {
            "_view_name": "LayoutView",
            "grid_template_rows": null,
            "right": null,
            "justify_content": null,
            "_view_module": "@jupyter-widgets/base",
            "overflow": null,
            "_model_module_version": "1.2.0",
            "_view_count": null,
            "flex_flow": null,
            "width": null,
            "min_width": null,
            "border": null,
            "align_items": null,
            "bottom": null,
            "_model_module": "@jupyter-widgets/base",
            "top": null,
            "grid_column": null,
            "overflow_y": null,
            "overflow_x": null,
            "grid_auto_flow": null,
            "grid_area": null,
            "grid_template_columns": null,
            "flex": null,
            "_model_name": "LayoutModel",
            "justify_items": null,
            "grid_row": null,
            "max_height": null,
            "align_content": null,
            "visibility": null,
            "align_self": null,
            "height": null,
            "min_height": null,
            "padding": null,
            "grid_auto_rows": null,
            "grid_gap": null,
            "max_width": null,
            "order": null,
            "_view_module_version": "1.2.0",
            "grid_template_areas": null,
            "object_position": null,
            "object_fit": null,
            "grid_auto_columns": null,
            "margin": null,
            "display": null,
            "left": null
          }
        },
        "b5d183a1e28141229c65abdd9901a067": {
          "model_module": "@jupyter-widgets/controls",
          "model_name": "IntProgressModel",
          "state": {
            "_view_name": "ProgressView",
            "style": "IPY_MODEL_9238bf176a214c49ad9ad9ca523d3032",
            "_dom_classes": [],
            "description": "Downloading: 100%",
            "_model_name": "IntProgressModel",
            "bar_style": "success",
            "max": 433,
            "_view_module": "@jupyter-widgets/controls",
            "_model_module_version": "1.5.0",
            "value": 433,
            "_view_count": null,
            "_view_module_version": "1.5.0",
            "orientation": "horizontal",
            "min": 0,
            "description_tooltip": null,
            "_model_module": "@jupyter-widgets/controls",
            "layout": "IPY_MODEL_652a94384c6a4005a1444f3c728501ed"
          }
        },
        "51ae96ccf72f42eda5fabcad693a57e3": {
          "model_module": "@jupyter-widgets/controls",
          "model_name": "HTMLModel",
          "state": {
            "_view_name": "HTMLView",
            "style": "IPY_MODEL_a04b28588a604f9699202532bab269dd",
            "_dom_classes": [],
            "description": "",
            "_model_name": "HTMLModel",
            "placeholder": "​",
            "_view_module": "@jupyter-widgets/controls",
            "_model_module_version": "1.5.0",
            "value": " 433/433 [00:01&lt;00:00, 412B/s]",
            "_view_count": null,
            "_view_module_version": "1.5.0",
            "description_tooltip": null,
            "_model_module": "@jupyter-widgets/controls",
            "layout": "IPY_MODEL_8f14617a8a4c4ba0912ac07fdbdb8287"
          }
        },
        "9238bf176a214c49ad9ad9ca523d3032": {
          "model_module": "@jupyter-widgets/controls",
          "model_name": "ProgressStyleModel",
          "state": {
            "_view_name": "StyleView",
            "_model_name": "ProgressStyleModel",
            "description_width": "initial",
            "_view_module": "@jupyter-widgets/base",
            "_model_module_version": "1.5.0",
            "_view_count": null,
            "_view_module_version": "1.2.0",
            "bar_color": null,
            "_model_module": "@jupyter-widgets/controls"
          }
        },
        "652a94384c6a4005a1444f3c728501ed": {
          "model_module": "@jupyter-widgets/base",
          "model_name": "LayoutModel",
          "state": {
            "_view_name": "LayoutView",
            "grid_template_rows": null,
            "right": null,
            "justify_content": null,
            "_view_module": "@jupyter-widgets/base",
            "overflow": null,
            "_model_module_version": "1.2.0",
            "_view_count": null,
            "flex_flow": null,
            "width": null,
            "min_width": null,
            "border": null,
            "align_items": null,
            "bottom": null,
            "_model_module": "@jupyter-widgets/base",
            "top": null,
            "grid_column": null,
            "overflow_y": null,
            "overflow_x": null,
            "grid_auto_flow": null,
            "grid_area": null,
            "grid_template_columns": null,
            "flex": null,
            "_model_name": "LayoutModel",
            "justify_items": null,
            "grid_row": null,
            "max_height": null,
            "align_content": null,
            "visibility": null,
            "align_self": null,
            "height": null,
            "min_height": null,
            "padding": null,
            "grid_auto_rows": null,
            "grid_gap": null,
            "max_width": null,
            "order": null,
            "_view_module_version": "1.2.0",
            "grid_template_areas": null,
            "object_position": null,
            "object_fit": null,
            "grid_auto_columns": null,
            "margin": null,
            "display": null,
            "left": null
          }
        },
        "a04b28588a604f9699202532bab269dd": {
          "model_module": "@jupyter-widgets/controls",
          "model_name": "DescriptionStyleModel",
          "state": {
            "_view_name": "StyleView",
            "_model_name": "DescriptionStyleModel",
            "description_width": "",
            "_view_module": "@jupyter-widgets/base",
            "_model_module_version": "1.5.0",
            "_view_count": null,
            "_view_module_version": "1.2.0",
            "_model_module": "@jupyter-widgets/controls"
          }
        },
        "8f14617a8a4c4ba0912ac07fdbdb8287": {
          "model_module": "@jupyter-widgets/base",
          "model_name": "LayoutModel",
          "state": {
            "_view_name": "LayoutView",
            "grid_template_rows": null,
            "right": null,
            "justify_content": null,
            "_view_module": "@jupyter-widgets/base",
            "overflow": null,
            "_model_module_version": "1.2.0",
            "_view_count": null,
            "flex_flow": null,
            "width": null,
            "min_width": null,
            "border": null,
            "align_items": null,
            "bottom": null,
            "_model_module": "@jupyter-widgets/base",
            "top": null,
            "grid_column": null,
            "overflow_y": null,
            "overflow_x": null,
            "grid_auto_flow": null,
            "grid_area": null,
            "grid_template_columns": null,
            "flex": null,
            "_model_name": "LayoutModel",
            "justify_items": null,
            "grid_row": null,
            "max_height": null,
            "align_content": null,
            "visibility": null,
            "align_self": null,
            "height": null,
            "min_height": null,
            "padding": null,
            "grid_auto_rows": null,
            "grid_gap": null,
            "max_width": null,
            "order": null,
            "_view_module_version": "1.2.0",
            "grid_template_areas": null,
            "object_position": null,
            "object_fit": null,
            "grid_auto_columns": null,
            "margin": null,
            "display": null,
            "left": null
          }
        },
        "3087736533b5459ea2c7a009b8976fdf": {
          "model_module": "@jupyter-widgets/controls",
          "model_name": "HBoxModel",
          "state": {
            "_view_name": "HBoxView",
            "_dom_classes": [],
            "_model_name": "HBoxModel",
            "_view_module": "@jupyter-widgets/controls",
            "_model_module_version": "1.5.0",
            "_view_count": null,
            "_view_module_version": "1.5.0",
            "box_style": "",
            "layout": "IPY_MODEL_da9e2ca2dee34516af28f544ff6068df",
            "_model_module": "@jupyter-widgets/controls",
            "children": [
              "IPY_MODEL_0921e4940c864819b0f626acaacadd8e",
              "IPY_MODEL_3c40252d59f747748f849771a9c0ac26"
            ]
          }
        },
        "da9e2ca2dee34516af28f544ff6068df": {
          "model_module": "@jupyter-widgets/base",
          "model_name": "LayoutModel",
          "state": {
            "_view_name": "LayoutView",
            "grid_template_rows": null,
            "right": null,
            "justify_content": null,
            "_view_module": "@jupyter-widgets/base",
            "overflow": null,
            "_model_module_version": "1.2.0",
            "_view_count": null,
            "flex_flow": null,
            "width": null,
            "min_width": null,
            "border": null,
            "align_items": null,
            "bottom": null,
            "_model_module": "@jupyter-widgets/base",
            "top": null,
            "grid_column": null,
            "overflow_y": null,
            "overflow_x": null,
            "grid_auto_flow": null,
            "grid_area": null,
            "grid_template_columns": null,
            "flex": null,
            "_model_name": "LayoutModel",
            "justify_items": null,
            "grid_row": null,
            "max_height": null,
            "align_content": null,
            "visibility": null,
            "align_self": null,
            "height": null,
            "min_height": null,
            "padding": null,
            "grid_auto_rows": null,
            "grid_gap": null,
            "max_width": null,
            "order": null,
            "_view_module_version": "1.2.0",
            "grid_template_areas": null,
            "object_position": null,
            "object_fit": null,
            "grid_auto_columns": null,
            "margin": null,
            "display": null,
            "left": null
          }
        },
        "0921e4940c864819b0f626acaacadd8e": {
          "model_module": "@jupyter-widgets/controls",
          "model_name": "IntProgressModel",
          "state": {
            "_view_name": "ProgressView",
            "style": "IPY_MODEL_0226f2b8b1ee4006985bbc4b6dd2571a",
            "_dom_classes": [],
            "description": "Downloading: 100%",
            "_model_name": "IntProgressModel",
            "bar_style": "success",
            "max": 435779157,
            "_view_module": "@jupyter-widgets/controls",
            "_model_module_version": "1.5.0",
            "value": 435779157,
            "_view_count": null,
            "_view_module_version": "1.5.0",
            "orientation": "horizontal",
            "min": 0,
            "description_tooltip": null,
            "_model_module": "@jupyter-widgets/controls",
            "layout": "IPY_MODEL_f070946fb78544b4bbfa508395e1e9c1"
          }
        },
        "3c40252d59f747748f849771a9c0ac26": {
          "model_module": "@jupyter-widgets/controls",
          "model_name": "HTMLModel",
          "state": {
            "_view_name": "HTMLView",
            "style": "IPY_MODEL_a02aa4189fce49c0bda53030230114a5",
            "_dom_classes": [],
            "description": "",
            "_model_name": "HTMLModel",
            "placeholder": "​",
            "_view_module": "@jupyter-widgets/controls",
            "_model_module_version": "1.5.0",
            "value": " 436M/436M [00:34&lt;00:00, 12.5MB/s]",
            "_view_count": null,
            "_view_module_version": "1.5.0",
            "description_tooltip": null,
            "_model_module": "@jupyter-widgets/controls",
            "layout": "IPY_MODEL_31fd7c8921424f849c77f75a0924d998"
          }
        },
        "0226f2b8b1ee4006985bbc4b6dd2571a": {
          "model_module": "@jupyter-widgets/controls",
          "model_name": "ProgressStyleModel",
          "state": {
            "_view_name": "StyleView",
            "_model_name": "ProgressStyleModel",
            "description_width": "initial",
            "_view_module": "@jupyter-widgets/base",
            "_model_module_version": "1.5.0",
            "_view_count": null,
            "_view_module_version": "1.2.0",
            "bar_color": null,
            "_model_module": "@jupyter-widgets/controls"
          }
        },
        "f070946fb78544b4bbfa508395e1e9c1": {
          "model_module": "@jupyter-widgets/base",
          "model_name": "LayoutModel",
          "state": {
            "_view_name": "LayoutView",
            "grid_template_rows": null,
            "right": null,
            "justify_content": null,
            "_view_module": "@jupyter-widgets/base",
            "overflow": null,
            "_model_module_version": "1.2.0",
            "_view_count": null,
            "flex_flow": null,
            "width": null,
            "min_width": null,
            "border": null,
            "align_items": null,
            "bottom": null,
            "_model_module": "@jupyter-widgets/base",
            "top": null,
            "grid_column": null,
            "overflow_y": null,
            "overflow_x": null,
            "grid_auto_flow": null,
            "grid_area": null,
            "grid_template_columns": null,
            "flex": null,
            "_model_name": "LayoutModel",
            "justify_items": null,
            "grid_row": null,
            "max_height": null,
            "align_content": null,
            "visibility": null,
            "align_self": null,
            "height": null,
            "min_height": null,
            "padding": null,
            "grid_auto_rows": null,
            "grid_gap": null,
            "max_width": null,
            "order": null,
            "_view_module_version": "1.2.0",
            "grid_template_areas": null,
            "object_position": null,
            "object_fit": null,
            "grid_auto_columns": null,
            "margin": null,
            "display": null,
            "left": null
          }
        },
        "a02aa4189fce49c0bda53030230114a5": {
          "model_module": "@jupyter-widgets/controls",
          "model_name": "DescriptionStyleModel",
          "state": {
            "_view_name": "StyleView",
            "_model_name": "DescriptionStyleModel",
            "description_width": "",
            "_view_module": "@jupyter-widgets/base",
            "_model_module_version": "1.5.0",
            "_view_count": null,
            "_view_module_version": "1.2.0",
            "_model_module": "@jupyter-widgets/controls"
          }
        },
        "31fd7c8921424f849c77f75a0924d998": {
          "model_module": "@jupyter-widgets/base",
          "model_name": "LayoutModel",
          "state": {
            "_view_name": "LayoutView",
            "grid_template_rows": null,
            "right": null,
            "justify_content": null,
            "_view_module": "@jupyter-widgets/base",
            "overflow": null,
            "_model_module_version": "1.2.0",
            "_view_count": null,
            "flex_flow": null,
            "width": null,
            "min_width": null,
            "border": null,
            "align_items": null,
            "bottom": null,
            "_model_module": "@jupyter-widgets/base",
            "top": null,
            "grid_column": null,
            "overflow_y": null,
            "overflow_x": null,
            "grid_auto_flow": null,
            "grid_area": null,
            "grid_template_columns": null,
            "flex": null,
            "_model_name": "LayoutModel",
            "justify_items": null,
            "grid_row": null,
            "max_height": null,
            "align_content": null,
            "visibility": null,
            "align_self": null,
            "height": null,
            "min_height": null,
            "padding": null,
            "grid_auto_rows": null,
            "grid_gap": null,
            "max_width": null,
            "order": null,
            "_view_module_version": "1.2.0",
            "grid_template_areas": null,
            "object_position": null,
            "object_fit": null,
            "grid_auto_columns": null,
            "margin": null,
            "display": null,
            "left": null
          }
        }
      }
    }
  },
  "cells": [
    {
      "cell_type": "code",
      "metadata": {
        "id": "-_pEvlRkfYzI",
        "colab_type": "code",
        "outputId": "067abbe6-1dd3-498e-a454-bceb84c69b58",
        "colab": {
          "base_uri": "https://localhost:8080/",
          "height": 300
        }
      },
      "source": [
        "!nvidia-smi"
      ],
      "execution_count": 0,
      "outputs": [
        {
          "output_type": "stream",
          "text": [
            "Sun Apr 26 07:59:18 2020       \n",
            "+-----------------------------------------------------------------------------+\n",
            "| NVIDIA-SMI 440.64.00    Driver Version: 418.67       CUDA Version: 10.1     |\n",
            "|-------------------------------+----------------------+----------------------+\n",
            "| GPU  Name        Persistence-M| Bus-Id        Disp.A | Volatile Uncorr. ECC |\n",
            "| Fan  Temp  Perf  Pwr:Usage/Cap|         Memory-Usage | GPU-Util  Compute M. |\n",
            "|===============================+======================+======================|\n",
            "|   0  Tesla P100-PCIE...  Off  | 00000000:00:04.0 Off |                    0 |\n",
            "| N/A   45C    P0    27W / 250W |      0MiB / 16280MiB |      0%      Default |\n",
            "+-------------------------------+----------------------+----------------------+\n",
            "                                                                               \n",
            "+-----------------------------------------------------------------------------+\n",
            "| Processes:                                                       GPU Memory |\n",
            "|  GPU       PID   Type   Process name                             Usage      |\n",
            "|=============================================================================|\n",
            "|  No running processes found                                                 |\n",
            "+-----------------------------------------------------------------------------+\n"
          ],
          "name": "stdout"
        }
      ]
    },
    {
      "cell_type": "code",
      "metadata": {
        "id": "w68CZpOwFoly",
        "colab_type": "code",
        "cellView": "form",
        "outputId": "186fe2fe-7eb5-42a7-c5e2-342c093c7863",
        "colab": {
          "base_uri": "https://localhost:8080/",
          "height": 416,
          "referenced_widgets": [
            "cd41deb1bf8b439f9f291d957a22cb00",
            "30bcaf7fb2774ecaaca80c8fcb48a5b2",
            "0646d68d6619406ebafd10b93ba13103",
            "88d09cd76fb94a06b68a71f7c1f62411",
            "784ed48e1bcb498895a2e51ca414d11d",
            "7388edf2b4b04999981baf5e40c3f289",
            "1981c5c74fb240a3b10f18062c0d9faa",
            "1b02b80f25464ace9305905247245e82"
          ]
        }
      },
      "source": [
        "# @title Import Packages and other Config\n",
        "\n",
        "!pip install -qq transformers\n",
        "\n",
        "import transformers\n",
        "from transformers import BertModel, BertTokenizer, AdamW, get_linear_schedule_with_warmup\n",
        "\n",
        "import os\n",
        "import sys\n",
        "import random\n",
        "import numpy as np\n",
        "import pandas as pd\n",
        "import matplotlib.pyplot as plt\n",
        "\n",
        "import torch\n",
        "from torch import nn, optim\n",
        "from torch.utils.data import Dataset, DataLoader\n",
        "import torch.nn.functional as F\n",
        "\n",
        "%pip install wandb -q\n",
        "import wandb\n",
        "wandb.login()\n",
        "\n",
        "device = torch.device(\"cuda:0\" if torch.cuda.is_available() else \"cpu\")\n",
        "\n",
        "tokenizer = BertTokenizer.from_pretrained('bert-base-cased')"
      ],
      "execution_count": 0,
      "outputs": [
        {
          "output_type": "stream",
          "text": [
            "\u001b[K     |████████████████████████████████| 573kB 2.7MB/s \n",
            "\u001b[K     |████████████████████████████████| 890kB 12.6MB/s \n",
            "\u001b[K     |████████████████████████████████| 1.0MB 15.9MB/s \n",
            "\u001b[K     |████████████████████████████████| 3.7MB 25.7MB/s \n",
            "\u001b[?25h  Building wheel for sacremoses (setup.py) ... \u001b[?25l\u001b[?25hdone\n",
            "\u001b[K     |████████████████████████████████| 1.4MB 2.7MB/s \n",
            "\u001b[K     |████████████████████████████████| 102kB 7.9MB/s \n",
            "\u001b[K     |████████████████████████████████| 460kB 14.5MB/s \n",
            "\u001b[K     |████████████████████████████████| 102kB 8.2MB/s \n",
            "\u001b[K     |████████████████████████████████| 112kB 19.0MB/s \n",
            "\u001b[K     |████████████████████████████████| 71kB 7.5MB/s \n",
            "\u001b[K     |████████████████████████████████| 71kB 7.0MB/s \n",
            "\u001b[?25h  Building wheel for watchdog (setup.py) ... \u001b[?25l\u001b[?25hdone\n",
            "  Building wheel for subprocess32 (setup.py) ... \u001b[?25l\u001b[?25hdone\n",
            "  Building wheel for gql (setup.py) ... \u001b[?25l\u001b[?25hdone\n",
            "  Building wheel for pathtools (setup.py) ... \u001b[?25l\u001b[?25hdone\n",
            "  Building wheel for graphql-core (setup.py) ... \u001b[?25l\u001b[?25hdone\n"
          ],
          "name": "stdout"
        },
        {
          "output_type": "display_data",
          "data": {
            "application/javascript": [
              "\n",
              "        window._wandbApiKey = new Promise((resolve, reject) => {\n",
              "            function loadScript(url) {\n",
              "            return new Promise(function(resolve, reject) {\n",
              "                let newScript = document.createElement(\"script\");\n",
              "                newScript.onerror = reject;\n",
              "                newScript.onload = resolve;\n",
              "                document.body.appendChild(newScript);\n",
              "                newScript.src = url;\n",
              "            });\n",
              "            }\n",
              "            loadScript(\"https://cdn.jsdelivr.net/npm/postmate/build/postmate.min.js\").then(() => {\n",
              "            const iframe = document.createElement('iframe')\n",
              "            iframe.style.cssText = \"width:0;height:0;border:none\"\n",
              "            document.body.appendChild(iframe)\n",
              "            const handshake = new Postmate({\n",
              "                container: iframe,\n",
              "                url: 'https://app.wandb.ai/authorize'\n",
              "            });\n",
              "            const timeout = setTimeout(() => reject(\"Couldn't auto authenticate\"), 5000)\n",
              "            handshake.then(function(child) {\n",
              "                child.on('authorize', data => {\n",
              "                    clearTimeout(timeout)\n",
              "                    resolve(data)\n",
              "                });\n",
              "            });\n",
              "            })\n",
              "        });\n",
              "    "
            ],
            "text/plain": [
              "<IPython.core.display.Javascript object>"
            ]
          },
          "metadata": {
            "tags": []
          }
        },
        {
          "output_type": "stream",
          "text": [
            "\u001b[34m\u001b[1mwandb\u001b[0m: \u001b[32m\u001b[41mERROR\u001b[0m Not authenticated.  Copy a key from https://app.wandb.ai/authorize\n"
          ],
          "name": "stderr"
        },
        {
          "output_type": "stream",
          "text": [
            "API Key: ··········\n"
          ],
          "name": "stdout"
        },
        {
          "output_type": "stream",
          "text": [
            "\u001b[34m\u001b[1mwandb\u001b[0m: Appending key for api.wandb.ai to your netrc file: /root/.netrc\n"
          ],
          "name": "stderr"
        },
        {
          "output_type": "display_data",
          "data": {
            "application/vnd.jupyter.widget-view+json": {
              "model_id": "cd41deb1bf8b439f9f291d957a22cb00",
              "version_minor": 0,
              "version_major": 2
            },
            "text/plain": [
              "HBox(children=(IntProgress(value=0, description='Downloading', max=213450, style=ProgressStyle(description_wid…"
            ]
          },
          "metadata": {
            "tags": []
          }
        },
        {
          "output_type": "stream",
          "text": [
            "\n"
          ],
          "name": "stdout"
        }
      ]
    },
    {
      "cell_type": "markdown",
      "metadata": {
        "id": "A3HBXVkNmMZ2",
        "colab_type": "text"
      },
      "source": [
        "###Download the IMDB Reviews dataset"
      ]
    },
    {
      "cell_type": "code",
      "metadata": {
        "id": "8X7emYdr_WTl",
        "colab_type": "code",
        "colab": {}
      },
      "source": [
        "%%capture\n",
        "if not os.path.isdir('aclImdb'):\n",
        "    !wget http://ai.stanford.edu/~amaas/data/sentiment/aclImdb_v1.tar.gz\n",
        "    !tar -xvf 'aclImdb_v1.tar.gz'\n",
        "    !sudo rm -r 'aclImdb_v1.tar.gz'"
      ],
      "execution_count": 0,
      "outputs": []
    },
    {
      "cell_type": "markdown",
      "metadata": {
        "id": "8RJbtOc8Gjwk",
        "colab_type": "text"
      },
      "source": [
        "## Generate Dataset"
      ]
    },
    {
      "cell_type": "code",
      "metadata": {
        "id": "V_hNqQiqRCYq",
        "colab_type": "code",
        "outputId": "c6123588-ef33-4871-a4eb-72801f0f816d",
        "colab": {
          "base_uri": "https://localhost:8080/",
          "height": 117
        }
      },
      "source": [
        "class IMDB_dataset(Dataset):\n",
        "    \n",
        "    def __init__(self,root_dir, seq_length = 250):\n",
        "        \n",
        "        self.reviews = []\n",
        "        self.labels = []\n",
        "        self.seq_length = seq_length\n",
        "        self.reviews_len = []\n",
        "\n",
        "        for filename in os.listdir(os.path.join(root_dir,'pos')):\n",
        "            review = open(os.path.join(os.path.join(root_dir,'pos'),filename),'r').read().replace('<br />',' ')\n",
        "            self.reviews.append(review)\n",
        "            self.labels.append(1)\n",
        "\n",
        "        for filename in os.listdir(os.path.join(root_dir,'neg')):\n",
        "            review = open(os.path.join(os.path.join(root_dir,'neg'),filename),'r').read().replace('<br />',' ')\n",
        "            self.reviews.append(review)\n",
        "            self.labels.append(0)\n",
        "\n",
        "        self.reviews_len = [len(review.split()) for review in self.reviews]\n",
        "\n",
        "    def __len__(self):\n",
        "        return len(self.reviews)\n",
        "    \n",
        "    def __getitem__(self,index):  \n",
        "        # encode the reviews\n",
        "        encoding = tokenizer.encode_plus(\n",
        "            self.reviews[index],\n",
        "            add_special_tokens=True,\n",
        "            max_length=self.seq_length,\n",
        "            return_token_type_ids=False,\n",
        "            pad_to_max_length=True,\n",
        "            return_attention_mask=True,\n",
        "            return_tensors='pt',\n",
        "        )\n",
        "\n",
        "        data_dict = {\n",
        "        'input_ids': encoding['input_ids'].flatten(),\n",
        "        'attention_mask': encoding['attention_mask'].flatten(),\n",
        "        'targets': torch.tensor(self.labels[index], dtype=torch.float).unsqueeze(-1)}\n",
        "        return data_dict\n",
        "\n",
        "    def get_reviews(self,index):\n",
        "        return self.reviews[index] \n",
        "\n",
        "    def analyze_reviews(self):\n",
        "        print('Max: {}'.format(max(self.reviews_len)))\n",
        "        print('Min: {}'.format(min(self.reviews_len)))\n",
        "        print('Mean: {}'.format(np.mean(self.reviews_len)))\n",
        "        \n",
        "dataset = IMDB_dataset('aclImdb/train', seq_length = 250)\n",
        "\n",
        "print('Total number of Reviews: {}'.format(len(dataset)))\n",
        "print('Number of Positives: {}'.format(dataset.labels.count(0)))\n",
        "print('Number of Negatives: {}'.format(dataset.labels.count(1)))\n",
        "\n",
        "dataset.analyze_reviews()"
      ],
      "execution_count": 0,
      "outputs": [
        {
          "output_type": "stream",
          "text": [
            "Total number of Reviews: 25000\n",
            "Number of Positives: 12500\n",
            "Number of Negatives: 12500\n",
            "Max: 2459\n",
            "Min: 10\n",
            "Mean: 231.48692\n"
          ],
          "name": "stdout"
        }
      ]
    },
    {
      "cell_type": "code",
      "metadata": {
        "id": "9jybVpVGVj3z",
        "colab_type": "code",
        "outputId": "337fcf51-d619-4ae1-80d3-5ad8fabfaa6d",
        "colab": {
          "base_uri": "https://localhost:8080/",
          "height": 120
        }
      },
      "source": [
        "data = dataset[100]\n",
        "print(data['input_ids'].shape)\n",
        "print(data['attention_mask'].shape)\n",
        "print(data['targets'])\n",
        "print(dataset.get_reviews(100))\n",
        "print(tokenizer.convert_ids_to_tokens(data['input_ids']))"
      ],
      "execution_count": 0,
      "outputs": [
        {
          "output_type": "stream",
          "text": [
            "torch.Size([250])\n",
            "torch.Size([250])\n",
            "tensor([1.])\n",
            "Didn't Mystic Pizza win the Oscar for that year? This movie never had a chance, due to the casting, but perhaps by now people can see why I felt that way upon leaving the theater. Only \"Wargames\" left me feeling similarly disturbed after leaving the theater, with the feeling I was getting a glimpse of our future. History has shown that this is exactly what happened.  The casting is a pop-culture Cuisinart of the 1980s: you get Arnold as Ben Richards, the framed fugitive offered a chance to \"run\" for his freedom on the game show with the same title as the movie; Richard Dawson as Damon Killian, treating his role as if he were the host of Family Feud with the contestants using real guns; Jesse Ventura as \"Captain Freedom\" and co-wrestler Professor Tanaka as \"Subzero,\" both \"stalkers\" who kill the \"running men.\" Even Mick Fleetwood (Mic) and Dweezil Zappa (Stevie) show up, while the \"dancers of the future\" are none other than the Laker Girls. This movie SCREAMS \"80s.\" The plot is a good excuse for the action: Ben Richards is determined to prove his innocence, but agrees to be the Running Man when he is told that his buddies would be set free; instead, they join him as \"contestants.\" Maria Conchita Alonzo as Amber Mendez is the standard by which one can properly judge Salma Hayek in the 1990s.  The production value on the film was a bit poor, the lines were cheesy, and (at the time), the plot seemed a bit far-fetched. I remember thinking when I was leaving the theater that we were definitely heading in the direction of the film, but who could have seen how far we'd go there and how fast? If The Running Man were listed in TV Guide, most people would assume it were just another reality show pushing the envelope today. The government influences on the media have only gotten worse, and the dumbed-down American public of the future that surrenders all of its freedoms for \"national security\" is downright chilling. Ben Richards is played brilliantly by Arnold as one of the few remaining holdouts against a government tyranny that the rest of America is all too willing to accept in return for good television and some parting gifts for the audience.  The movie was way over the top, maybe even off the cliff for its time, but as with Back to the Future III, the \"ravine\" it appeared to be sinking itself into in 1987 was replaced by completed tracks in 2006 and beyond, and this movie will sail into the future as one of the more prophetic films of our time. It is tragic that, as with Wargames, the academy did not give this brilliant screenplay the recognition it deserved. \"Serious\" actors acting seriously while being so pretentious that you want to throw up may win more Oscars, but that doesn't make them better films than their \"common man\" counterparts, such as this one.  An absolute must-see.\n",
            "['[CLS]', 'Didn', \"'\", 't', 'My', '##stic', 'Pizza', 'win', 'the', 'Oscar', 'for', 'that', 'year', '?', 'This', 'movie', 'never', 'had', 'a', 'chance', ',', 'due', 'to', 'the', 'casting', ',', 'but', 'perhaps', 'by', 'now', 'people', 'can', 'see', 'why', 'I', 'felt', 'that', 'way', 'upon', 'leaving', 'the', 'theater', '.', 'Only', '\"', 'War', '##game', '##s', '\"', 'left', 'me', 'feeling', 'similarly', 'disturbed', 'after', 'leaving', 'the', 'theater', ',', 'with', 'the', 'feeling', 'I', 'was', 'getting', 'a', 'glimpse', 'of', 'our', 'future', '.', 'History', 'has', 'shown', 'that', 'this', 'is', 'exactly', 'what', 'happened', '.', 'The', 'casting', 'is', 'a', 'pop', '-', 'culture', 'C', '##ui', '##sin', '##art', 'of', 'the', '1980s', ':', 'you', 'get', 'Arnold', 'as', 'Ben', 'Richards', ',', 'the', 'framed', 'f', '##ug', '##itive', 'offered', 'a', 'chance', 'to', '\"', 'run', '\"', 'for', 'his', 'freedom', 'on', 'the', 'game', 'show', 'with', 'the', 'same', 'title', 'as', 'the', 'movie', ';', 'Richard', 'Dawson', 'as', 'Damon', 'Kill', '##ian', ',', 'treating', 'his', 'role', 'as', 'if', 'he', 'were', 'the', 'host', 'of', 'Family', 'Fe', '##ud', 'with', 'the', 'contestants', 'using', 'real', 'guns', ';', 'Jesse', 'Ventura', 'as', '\"', 'Captain', 'Freedom', '\"', 'and', 'co', '-', 'wrestler', 'Professor', 'Tanaka', 'as', '\"', 'Sub', '##zer', '##o', ',', '\"', 'both', '\"', 'stalk', '##ers', '\"', 'who', 'kill', 'the', '\"', 'running', 'men', '.', '\"', 'Even', 'Mick', 'Fleetwood', '(', 'Mi', '##c', ')', 'and', 'D', '##we', '##ez', '##il', 'Z', '##ap', '##pa', '(', 'Stevie', ')', 'show', 'up', ',', 'while', 'the', '\"', 'dancers', 'of', 'the', 'future', '\"', 'are', 'none', 'other', 'than', 'the', 'Lake', '##r', 'Girls', '.', 'This', 'movie', 'SC', '##RE', '##AM', '##S', '\"', '80s', '.', '\"', 'The', 'plot', 'is', 'a', 'good', 'excuse', 'for', 'the', 'action', ':', 'Ben', '[SEP]']\n"
          ],
          "name": "stdout"
        }
      ]
    },
    {
      "cell_type": "markdown",
      "metadata": {
        "id": "55HVZFw9XkGt",
        "colab_type": "text"
      },
      "source": [
        "## Generate Dataloaders"
      ]
    },
    {
      "cell_type": "code",
      "metadata": {
        "id": "VZs3zW66Lw-t",
        "colab_type": "code",
        "outputId": "75c6cc60-70df-46cd-def8-144bfbe198ff",
        "colab": {
          "base_uri": "https://localhost:8080/",
          "height": 100
        }
      },
      "source": [
        "# split the dataset into validation and test sets\n",
        "len_valid_set = int(0.1*len(dataset))\n",
        "len_train_set = len(dataset) - len_valid_set\n",
        "\n",
        "print(\"The length of Train set is {}\".format(len_train_set))\n",
        "print(\"The length of Valid set is {}\".format(len_valid_set))\n",
        "\n",
        "train_dataset , valid_dataset = torch.utils.data.random_split(dataset , [len_train_set, len_valid_set])\n",
        "\n",
        "batch_size = 32\n",
        "\n",
        "# shuffle and batch the datasets\n",
        "train_loader = torch.utils.data.DataLoader(train_dataset, batch_size=batch_size, shuffle=True, num_workers=4)\n",
        "valid_loader = torch.utils.data.DataLoader(valid_dataset, batch_size=batch_size, shuffle=True, num_workers=4)\n",
        "\n",
        "batch = next(iter(train_loader))\n",
        "print(batch['input_ids'].shape)\n",
        "print(batch['attention_mask'].shape)\n",
        "print(batch['targets'].shape)"
      ],
      "execution_count": 0,
      "outputs": [
        {
          "output_type": "stream",
          "text": [
            "The length of Train set is 22500\n",
            "The length of Valid set is 2500\n",
            "torch.Size([32, 250])\n",
            "torch.Size([32, 250])\n",
            "torch.Size([32, 1])\n"
          ],
          "name": "stdout"
        }
      ]
    },
    {
      "cell_type": "markdown",
      "metadata": {
        "id": "H63Y-TjyRC7S",
        "colab_type": "text"
      },
      "source": [
        "## Network (BERT)"
      ]
    },
    {
      "cell_type": "code",
      "metadata": {
        "id": "m_mRflxPl32F",
        "colab_type": "code",
        "outputId": "ffc1061e-2aff-473b-a482-1130ae0a094a",
        "colab": {
          "base_uri": "https://localhost:8080/",
          "height": 114,
          "referenced_widgets": [
            "7049962d1819476c81ae039d1507410e",
            "a20aa03def4c45cbbd1080db8f32a8a3",
            "b5d183a1e28141229c65abdd9901a067",
            "51ae96ccf72f42eda5fabcad693a57e3",
            "9238bf176a214c49ad9ad9ca523d3032",
            "652a94384c6a4005a1444f3c728501ed",
            "a04b28588a604f9699202532bab269dd",
            "8f14617a8a4c4ba0912ac07fdbdb8287",
            "3087736533b5459ea2c7a009b8976fdf",
            "da9e2ca2dee34516af28f544ff6068df",
            "0921e4940c864819b0f626acaacadd8e",
            "3c40252d59f747748f849771a9c0ac26",
            "0226f2b8b1ee4006985bbc4b6dd2571a",
            "f070946fb78544b4bbfa508395e1e9c1",
            "a02aa4189fce49c0bda53030230114a5",
            "31fd7c8921424f849c77f75a0924d998"
          ]
        }
      },
      "source": [
        "class SentimentClassifier(nn.Module):\n",
        "\n",
        "    def __init__(self):\n",
        "        super(SentimentClassifier, self).__init__()\n",
        "        self.bert = BertModel.from_pretrained('bert-base-cased')\n",
        "        self.dropout = nn.Dropout(0.5)\n",
        "        self.classifier = nn.Linear(self.bert.config.hidden_size, 1)\n",
        "        self.sigmoid = nn.Sigmoid()\n",
        "\n",
        "    def forward(self, input_ids, attention_mask):\n",
        "        hidden_state, output = self.bert(input_ids=input_ids, attention_mask=attention_mask)\n",
        "        output = self.dropout(output)\n",
        "        output = self.classifier(output)\n",
        "        output = self.sigmoid(output)\n",
        "        return output\n",
        "\n",
        "network = SentimentClassifier().to(device)"
      ],
      "execution_count": 0,
      "outputs": [
        {
          "output_type": "display_data",
          "data": {
            "application/vnd.jupyter.widget-view+json": {
              "model_id": "7049962d1819476c81ae039d1507410e",
              "version_minor": 0,
              "version_major": 2
            },
            "text/plain": [
              "HBox(children=(IntProgress(value=0, description='Downloading', max=433, style=ProgressStyle(description_width=…"
            ]
          },
          "metadata": {
            "tags": []
          }
        },
        {
          "output_type": "stream",
          "text": [
            "\n"
          ],
          "name": "stdout"
        },
        {
          "output_type": "display_data",
          "data": {
            "application/vnd.jupyter.widget-view+json": {
              "model_id": "3087736533b5459ea2c7a009b8976fdf",
              "version_minor": 0,
              "version_major": 2
            },
            "text/plain": [
              "HBox(children=(IntProgress(value=0, description='Downloading', max=435779157, style=ProgressStyle(description_…"
            ]
          },
          "metadata": {
            "tags": []
          }
        },
        {
          "output_type": "stream",
          "text": [
            "\n"
          ],
          "name": "stdout"
        }
      ]
    },
    {
      "cell_type": "markdown",
      "metadata": {
        "id": "g9xikRdtRN1N",
        "colab_type": "text"
      },
      "source": [
        "## Helper functions for training "
      ]
    },
    {
      "cell_type": "code",
      "metadata": {
        "id": "bzl9UhuNx1_Q",
        "colab_type": "code",
        "colab": {}
      },
      "source": [
        "def print_overwrite(step, total_step, loss, acc, operation):\n",
        "    sys.stdout.write('\\r')\n",
        "    if operation == 'train':\n",
        "        sys.stdout.write(\"Train Steps: %d/%d  Loss: %.4f  Accuracy: %.4f\" % (step, total_step, loss, acc))\n",
        "    else:\n",
        "        sys.stdout.write(\"Valid Steps: %d/%d  Loss: %.4f  Accuracy: %.4f\" % (step, total_step, loss, acc))\n",
        "    sys.stdout.flush()\n",
        "\n",
        "# function to find the accuracy\n",
        "def find_acc(pred, label):\n",
        "    correct = torch.round(pred).eq(label)\n",
        "    accuracy = correct.to(torch.float32).mean().item() * 100\n",
        "    return accuracy\n",
        "\n",
        "def train(network, criterion, optimizer, scheduler):\n",
        "    network = network.train()\n",
        "    loss = []\n",
        "    accuracy = []\n",
        "    \n",
        "    for step, batch in enumerate(train_loader):\n",
        "        input_ids = batch[\"input_ids\"].to(device)\n",
        "        attention_mask = batch[\"attention_mask\"].to(device)\n",
        "        targets = batch[\"targets\"].to(device)\n",
        "\n",
        "        logits = network(input_ids=input_ids, attention_mask=attention_mask)\n",
        "\n",
        "        optimizer.zero_grad()\n",
        "\n",
        "        loss_step = criterion(logits, targets)\n",
        "        acc_step = find_acc(logits, targets)\n",
        "\n",
        "        loss_step.backward()\n",
        "        nn.utils.clip_grad_norm_(network.parameters(), max_norm=1.0)\n",
        "        optimizer.step()\n",
        "        scheduler.step()\n",
        "\n",
        "        print_overwrite(step, len(train_loader), loss_step, acc_step, 'train')\n",
        "\n",
        "        loss.append(loss_step.item())\n",
        "        accuracy.append(acc_step)\n",
        "\n",
        "    return np.mean(loss), np.mean(accuracy)\n",
        "\n",
        "def validate(network, criterion):\n",
        "    network = network.eval()\n",
        "    loss = []\n",
        "    accuracy = []\n",
        "    \n",
        "    with torch.no_grad():\n",
        "        for step, batch in enumerate(valid_loader):\n",
        "            input_ids = batch[\"input_ids\"].to(device)\n",
        "            attention_mask = batch[\"attention_mask\"].to(device)\n",
        "            targets = batch[\"targets\"].to(device)\n",
        "\n",
        "            logits = network(input_ids=input_ids, attention_mask=attention_mask)\n",
        "\n",
        "            loss_step = criterion(logits, targets)\n",
        "            acc_step = find_acc(logits, targets)\n",
        "\n",
        "            print_overwrite(step, len(valid_loader), loss_step, acc_step, 'valid')\n",
        "\n",
        "            loss.append(loss_step.item())\n",
        "            accuracy.append(acc_step)\n",
        "\n",
        "    return np.mean(loss), np.mean(accuracy)"
      ],
      "execution_count": 0,
      "outputs": []
    },
    {
      "cell_type": "markdown",
      "metadata": {
        "id": "J78sN1N3k_Dn",
        "colab_type": "text"
      },
      "source": [
        "## Training Loop\n",
        "\n",
        "To reproduce the training procedure from the BERT paper, we'll use the [AdamW](https://huggingface.co/transformers/main_classes/optimizer_schedules.html#adamw) optimizer provided by Hugging Face. It corrects weight decay, so it's similar to the original paper. We'll also use a linear scheduler with no warmup steps.\n",
        "\n",
        "The BERT authors have some recommendations for fine-tuning:\n",
        "\n",
        "- Batch size: 16, 32\n",
        "- Learning rate (Adam): 5e-5, 3e-5, 2e-5\n",
        "- Number of epochs: 2, 3, 4"
      ]
    },
    {
      "cell_type": "code",
      "metadata": {
        "id": "1zhHoFNsxufs",
        "colab_type": "code",
        "outputId": "85b06291-8d7c-4702-eed2-38c86ba2806d",
        "colab": {
          "base_uri": "https://localhost:8080/",
          "height": 852
        }
      },
      "source": [
        "num_epochs = 10\n",
        "acc_max = 0\n",
        "\n",
        "# WandB – Initialize a new run\n",
        "wandb.init(name='BERT', entity=\"arkalim\", project=\"personal\")\n",
        "\n",
        "optimizer = AdamW(network.parameters(), lr=2e-5, correct_bias=False)\n",
        "\n",
        "scheduler = get_linear_schedule_with_warmup(optimizer, num_warmup_steps=0, num_training_steps= len(train_loader) * num_epochs)\n",
        "\n",
        "criterion = nn.BCELoss().to(device)\n",
        "\n",
        "for epoch in range(1,num_epochs+1):\n",
        "\n",
        "    loss_train, acc_train = train(network, criterion, optimizer, scheduler)\n",
        "    loss_valid, acc_valid = validate(network, criterion)\n",
        "        \n",
        "    sys.stdout.write('\\r')\n",
        "    sys.stdout.flush()\n",
        "    print('\\n----------------------------------------------------------------------------------------')\n",
        "    print('Epoch: {}  Train Loss: {:.4f}  Train Acc: {:.4f}  Valid Loss: {:.4f}  Valid Acc: {:.4f}'.format(epoch, loss_train, acc_train, loss_valid, acc_valid))\n",
        "    print('----------------------------------------------------------------------------------------')\n",
        "\n",
        "    if acc_valid > acc_max:\n",
        "        acc_max = acc_valid\n",
        "        torch.save(network.state_dict(), 'sentiment_analysis_bert.pth') \n",
        "        print(\"\\nMaximum validation Acc of {:.4f} at epoch {}/{}\".format(acc_max, epoch, num_epochs))\n",
        "        print('Model Saved\\n')\n",
        "    \n",
        "    wandb.log({\n",
        "        \"Epoch\": epoch,\n",
        "        \"Train Loss\": loss_train,\n",
        "        \"Train Acc\": acc_train,\n",
        "        \"Valid Loss\": loss_valid,\n",
        "        \"Valid Acc\": acc_valid,\n",
        "        \"Max Valid Acc\": acc_max})"
      ],
      "execution_count": 0,
      "outputs": [
        {
          "output_type": "display_data",
          "data": {
            "text/html": [
              "\n",
              "                Logging results to <a href=\"https://wandb.com\" target=\"_blank\">Weights & Biases</a> <a href=\"https://docs.wandb.com/integrations/jupyter.html\" target=\"_blank\">(Documentation)</a>.<br/>\n",
              "                Project page: <a href=\"https://app.wandb.ai/arkalim/personal\" target=\"_blank\">https://app.wandb.ai/arkalim/personal</a><br/>\n",
              "                Run page: <a href=\"https://app.wandb.ai/arkalim/personal/runs/23xhnuq1\" target=\"_blank\">https://app.wandb.ai/arkalim/personal/runs/23xhnuq1</a><br/>\n",
              "            "
            ],
            "text/plain": [
              "<IPython.core.display.HTML object>"
            ]
          },
          "metadata": {
            "tags": []
          }
        },
        {
          "output_type": "stream",
          "text": [
            "\n",
            "----------------------------------------------------------------------------------------\n",
            "Epoch: 1  Train Loss: 0.2979  Train Acc: 87.5932  Valid Loss: 0.2598  Valid Acc: 89.9525\n",
            "----------------------------------------------------------------------------------------\n",
            "\n",
            "Maximum validation Acc of 89.95253164556962 at epoch 1/10\n",
            "Model Saved\n",
            "\n",
            "----------------------------------------------------------------------------------------\n",
            "Epoch: 2  Train Loss: 0.1378  Train Acc: 95.1660  Valid Loss: 0.2689  Valid Acc: 91.0997\n",
            "----------------------------------------------------------------------------------------\n",
            "\n",
            "Maximum validation Acc of 91.0996835443038 at epoch 2/10\n",
            "Model Saved\n",
            "\n",
            "----------------------------------------------------------------------------------------\n",
            "Epoch: 3  Train Loss: 0.0687  Train Acc: 98.1357  Valid Loss: 0.3502  Valid Acc: 92.2468\n",
            "----------------------------------------------------------------------------------------\n",
            "\n",
            "Maximum validation Acc of 92.24683544303798 at epoch 3/10\n",
            "Model Saved\n",
            "\n",
            "----------------------------------------------------------------------------------------\n",
            "Epoch: 4  Train Loss: 0.0420  Train Acc: 98.9924  Valid Loss: 0.4122  Valid Acc: 91.8908\n",
            "----------------------------------------------------------------------------------------\n",
            "Train Steps: 159/704  Loss: 0.0015  Accuracy: 100.0000"
          ],
          "name": "stdout"
        },
        {
          "output_type": "error",
          "ename": "KeyboardInterrupt",
          "evalue": "ignored",
          "traceback": [
            "\u001b[0;31m---------------------------------------------------------------------------\u001b[0m",
            "\u001b[0;31mKeyboardInterrupt\u001b[0m                         Traceback (most recent call last)",
            "\u001b[0;32m<ipython-input-10-ad28c4c2075a>\u001b[0m in \u001b[0;36m<module>\u001b[0;34m()\u001b[0m\n\u001b[1;32m     13\u001b[0m \u001b[0;32mfor\u001b[0m \u001b[0mepoch\u001b[0m \u001b[0;32min\u001b[0m \u001b[0mrange\u001b[0m\u001b[0;34m(\u001b[0m\u001b[0;36m1\u001b[0m\u001b[0;34m,\u001b[0m\u001b[0mnum_epochs\u001b[0m\u001b[0;34m+\u001b[0m\u001b[0;36m1\u001b[0m\u001b[0;34m)\u001b[0m\u001b[0;34m:\u001b[0m\u001b[0;34m\u001b[0m\u001b[0;34m\u001b[0m\u001b[0m\n\u001b[1;32m     14\u001b[0m \u001b[0;34m\u001b[0m\u001b[0m\n\u001b[0;32m---> 15\u001b[0;31m     \u001b[0mloss_train\u001b[0m\u001b[0;34m,\u001b[0m \u001b[0macc_train\u001b[0m \u001b[0;34m=\u001b[0m \u001b[0mtrain\u001b[0m\u001b[0;34m(\u001b[0m\u001b[0mnetwork\u001b[0m\u001b[0;34m,\u001b[0m \u001b[0mcriterion\u001b[0m\u001b[0;34m,\u001b[0m \u001b[0moptimizer\u001b[0m\u001b[0;34m,\u001b[0m \u001b[0mscheduler\u001b[0m\u001b[0;34m)\u001b[0m\u001b[0;34m\u001b[0m\u001b[0;34m\u001b[0m\u001b[0m\n\u001b[0m\u001b[1;32m     16\u001b[0m     \u001b[0mloss_valid\u001b[0m\u001b[0;34m,\u001b[0m \u001b[0macc_valid\u001b[0m \u001b[0;34m=\u001b[0m \u001b[0mvalidate\u001b[0m\u001b[0;34m(\u001b[0m\u001b[0mnetwork\u001b[0m\u001b[0;34m,\u001b[0m \u001b[0mcriterion\u001b[0m\u001b[0;34m)\u001b[0m\u001b[0;34m\u001b[0m\u001b[0;34m\u001b[0m\u001b[0m\n\u001b[1;32m     17\u001b[0m \u001b[0;34m\u001b[0m\u001b[0m\n",
            "\u001b[0;32m<ipython-input-9-27f352326857>\u001b[0m in \u001b[0;36mtrain\u001b[0;34m(network, criterion, optimizer, scheduler)\u001b[0m\n\u001b[1;32m     30\u001b[0m         \u001b[0macc_step\u001b[0m \u001b[0;34m=\u001b[0m \u001b[0mfind_acc\u001b[0m\u001b[0;34m(\u001b[0m\u001b[0mlogits\u001b[0m\u001b[0;34m,\u001b[0m \u001b[0mtargets\u001b[0m\u001b[0;34m)\u001b[0m\u001b[0;34m\u001b[0m\u001b[0;34m\u001b[0m\u001b[0m\n\u001b[1;32m     31\u001b[0m \u001b[0;34m\u001b[0m\u001b[0m\n\u001b[0;32m---> 32\u001b[0;31m         \u001b[0mloss_step\u001b[0m\u001b[0;34m.\u001b[0m\u001b[0mbackward\u001b[0m\u001b[0;34m(\u001b[0m\u001b[0;34m)\u001b[0m\u001b[0;34m\u001b[0m\u001b[0;34m\u001b[0m\u001b[0m\n\u001b[0m\u001b[1;32m     33\u001b[0m         \u001b[0mnn\u001b[0m\u001b[0;34m.\u001b[0m\u001b[0mutils\u001b[0m\u001b[0;34m.\u001b[0m\u001b[0mclip_grad_norm_\u001b[0m\u001b[0;34m(\u001b[0m\u001b[0mnetwork\u001b[0m\u001b[0;34m.\u001b[0m\u001b[0mparameters\u001b[0m\u001b[0;34m(\u001b[0m\u001b[0;34m)\u001b[0m\u001b[0;34m,\u001b[0m \u001b[0mmax_norm\u001b[0m\u001b[0;34m=\u001b[0m\u001b[0;36m1.0\u001b[0m\u001b[0;34m)\u001b[0m\u001b[0;34m\u001b[0m\u001b[0;34m\u001b[0m\u001b[0m\n\u001b[1;32m     34\u001b[0m         \u001b[0moptimizer\u001b[0m\u001b[0;34m.\u001b[0m\u001b[0mstep\u001b[0m\u001b[0;34m(\u001b[0m\u001b[0;34m)\u001b[0m\u001b[0;34m\u001b[0m\u001b[0;34m\u001b[0m\u001b[0m\n",
            "\u001b[0;32m/usr/local/lib/python3.6/dist-packages/torch/tensor.py\u001b[0m in \u001b[0;36mbackward\u001b[0;34m(self, gradient, retain_graph, create_graph)\u001b[0m\n\u001b[1;32m    193\u001b[0m                 \u001b[0mproducts\u001b[0m\u001b[0;34m.\u001b[0m \u001b[0mDefaults\u001b[0m \u001b[0mto\u001b[0m\u001b[0;31m \u001b[0m\u001b[0;31m`\u001b[0m\u001b[0;31m`\u001b[0m\u001b[0;32mFalse\u001b[0m\u001b[0;31m`\u001b[0m\u001b[0;31m`\u001b[0m\u001b[0;34m.\u001b[0m\u001b[0;34m\u001b[0m\u001b[0;34m\u001b[0m\u001b[0m\n\u001b[1;32m    194\u001b[0m         \"\"\"\n\u001b[0;32m--> 195\u001b[0;31m         \u001b[0mtorch\u001b[0m\u001b[0;34m.\u001b[0m\u001b[0mautograd\u001b[0m\u001b[0;34m.\u001b[0m\u001b[0mbackward\u001b[0m\u001b[0;34m(\u001b[0m\u001b[0mself\u001b[0m\u001b[0;34m,\u001b[0m \u001b[0mgradient\u001b[0m\u001b[0;34m,\u001b[0m \u001b[0mretain_graph\u001b[0m\u001b[0;34m,\u001b[0m \u001b[0mcreate_graph\u001b[0m\u001b[0;34m)\u001b[0m\u001b[0;34m\u001b[0m\u001b[0;34m\u001b[0m\u001b[0m\n\u001b[0m\u001b[1;32m    196\u001b[0m \u001b[0;34m\u001b[0m\u001b[0m\n\u001b[1;32m    197\u001b[0m     \u001b[0;32mdef\u001b[0m \u001b[0mregister_hook\u001b[0m\u001b[0;34m(\u001b[0m\u001b[0mself\u001b[0m\u001b[0;34m,\u001b[0m \u001b[0mhook\u001b[0m\u001b[0;34m)\u001b[0m\u001b[0;34m:\u001b[0m\u001b[0;34m\u001b[0m\u001b[0;34m\u001b[0m\u001b[0m\n",
            "\u001b[0;32m/usr/local/lib/python3.6/dist-packages/torch/autograd/__init__.py\u001b[0m in \u001b[0;36mbackward\u001b[0;34m(tensors, grad_tensors, retain_graph, create_graph, grad_variables)\u001b[0m\n\u001b[1;32m     97\u001b[0m     Variable._execution_engine.run_backward(\n\u001b[1;32m     98\u001b[0m         \u001b[0mtensors\u001b[0m\u001b[0;34m,\u001b[0m \u001b[0mgrad_tensors\u001b[0m\u001b[0;34m,\u001b[0m \u001b[0mretain_graph\u001b[0m\u001b[0;34m,\u001b[0m \u001b[0mcreate_graph\u001b[0m\u001b[0;34m,\u001b[0m\u001b[0;34m\u001b[0m\u001b[0;34m\u001b[0m\u001b[0m\n\u001b[0;32m---> 99\u001b[0;31m         allow_unreachable=True)  # allow_unreachable flag\n\u001b[0m\u001b[1;32m    100\u001b[0m \u001b[0;34m\u001b[0m\u001b[0m\n\u001b[1;32m    101\u001b[0m \u001b[0;34m\u001b[0m\u001b[0m\n",
            "\u001b[0;31mKeyboardInterrupt\u001b[0m: "
          ]
        }
      ]
    },
    {
      "cell_type": "markdown",
      "metadata": {
        "id": "7WL5pDmvFyaU",
        "colab_type": "text"
      },
      "source": [
        "### Predicting on Raw Text\n",
        "\n",
        "Let's use our model to predict the sentiment of some raw text:"
      ]
    },
    {
      "cell_type": "code",
      "metadata": {
        "id": "WMX0EnY_qJjZ",
        "colab_type": "code",
        "colab": {}
      },
      "source": [
        "best_network = SentimentClassifier().to(device)\n",
        "best_network.load_state_dict(torch.load('sentiment_analysis_bert.pth'));"
      ],
      "execution_count": 0,
      "outputs": []
    },
    {
      "cell_type": "code",
      "metadata": {
        "id": "9_rwKI5jiY2M",
        "colab_type": "code",
        "outputId": "ee90eb15-4ad2-4379-8aae-12b3a5fc0ba7",
        "colab": {
          "base_uri": "https://localhost:8080/",
          "height": 33
        }
      },
      "source": [
        "review_text = \"The ending was amazing but the overall movie was very slow.\"\n",
        "\n",
        "encoded_review = tokenizer.encode_plus(\n",
        "    review_text,\n",
        "    max_length=160,\n",
        "    add_special_tokens=True,\n",
        "    return_token_type_ids=False,\n",
        "    pad_to_max_length=True,\n",
        "    return_attention_mask=True,\n",
        "    return_tensors='pt',\n",
        ")\n",
        "\n",
        "input_ids = encoded_review['input_ids'].to(device)\n",
        "attention_mask = encoded_review['attention_mask'].to(device)\n",
        "\n",
        "output = best_network(input_ids, attention_mask)\n",
        "\n",
        "# convert output probabilities to predicted class (0 or 1)\n",
        "pred = torch.round(output.squeeze()).item()\n",
        "\n",
        "# print custom response based on whether test_review is pos/neg\n",
        "if(pred==1):\n",
        "    print('Positive Review:  Confidence: {:.3f} %'.format((output.item())*100))\n",
        "else:\n",
        "    print('Negative Review:  Confidence: {:.3f} %'.format((1-output.item())*100))"
      ],
      "execution_count": 0,
      "outputs": [
        {
          "output_type": "stream",
          "text": [
            "Negative Review:  Confidence: 99.709 %\n"
          ],
          "name": "stdout"
        }
      ]
    }
  ]
}