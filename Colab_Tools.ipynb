{
  "nbformat": 4,
  "nbformat_minor": 0,
  "metadata": {
    "colab": {
      "name": "Colab Tools.ipynb",
      "version": "0.3.2",
      "provenance": [],
      "collapsed_sections": [],
      "include_colab_link": true
    },
    "kernelspec": {
      "name": "python3",
      "display_name": "Python 3"
    }
  },
  "cells": [
    {
      "cell_type": "markdown",
      "metadata": {
        "id": "view-in-github",
        "colab_type": "text"
      },
      "source": [
        "<a href=\"https://colab.research.google.com/github/arkalim/PyTorch/blob/master/Colab_Tools.ipynb\" target=\"_parent\"><img src=\"https://colab.research.google.com/assets/colab-badge.svg\" alt=\"Open In Colab\"/></a>"
      ]
    },
    {
      "cell_type": "markdown",
      "metadata": {
        "id": "FmHNGFZk6hxg",
        "colab_type": "text"
      },
      "source": [
        "##Google Colab Tools\n",
        "\n",
        "###Mounting Google Drive"
      ]
    },
    {
      "cell_type": "code",
      "metadata": {
        "id": "QyYb5LID6bD6",
        "colab_type": "code",
        "colab": {}
      },
      "source": [
        "from google.colab import drive\n",
        "drive.mount('/content/drive')"
      ],
      "execution_count": 0,
      "outputs": []
    },
    {
      "cell_type": "markdown",
      "metadata": {
        "id": "uI67YxWq66Nm",
        "colab_type": "text"
      },
      "source": [
        "###List Directories in the Drive"
      ]
    },
    {
      "cell_type": "code",
      "metadata": {
        "id": "CX55JSb67Bw2",
        "colab_type": "code",
        "colab": {}
      },
      "source": [
        "!ls \"/content/drive/My Drive/\""
      ],
      "execution_count": 0,
      "outputs": []
    },
    {
      "cell_type": "markdown",
      "metadata": {
        "id": "BXBlbXEu7t6q",
        "colab_type": "text"
      },
      "source": [
        "###Upload Files"
      ]
    },
    {
      "cell_type": "code",
      "metadata": {
        "id": "Omu5o0IC7uPW",
        "colab_type": "code",
        "colab": {}
      },
      "source": [
        "from google.colab import files\n",
        "file = files.upload()"
      ],
      "execution_count": 0,
      "outputs": []
    },
    {
      "cell_type": "markdown",
      "metadata": {
        "id": "UQD31XqG8CPo",
        "colab_type": "text"
      },
      "source": [
        "####To view the names of the files uploded"
      ]
    },
    {
      "cell_type": "code",
      "metadata": {
        "id": "ymlLm8mb8CZy",
        "colab_type": "code",
        "colab": {}
      },
      "source": [
        "for fn in file.keys():\n",
        "  print(fn)"
      ],
      "execution_count": 0,
      "outputs": []
    },
    {
      "cell_type": "markdown",
      "metadata": {
        "id": "u7cpFLbi7HDe",
        "colab_type": "text"
      },
      "source": [
        "###View GPU and RAM specs"
      ]
    },
    {
      "cell_type": "code",
      "metadata": {
        "id": "0fCJVkKh7NU-",
        "colab_type": "code",
        "colab": {}
      },
      "source": [
        "#view GPU and RAM specs\n",
        "!ln -sf /opt/bin/nvidia-smi /usr/bin/nvidia-smi\n",
        "!pip install gputil\n",
        "!pip install psutil\n",
        "!pip install humanize\n",
        "import psutil\n",
        "import humanize\n",
        "import os\n",
        "import GPUtil as GPU\n",
        "GPUs = GPU.getGPUs()\n",
        "# XXX: only one GPU on Colab and isn’t guaranteed\n",
        "gpu = GPUs[0]\n",
        "def printm():\n",
        " process = psutil.Process(os.getpid())\n",
        " print(\"Gen RAM Free: \" + humanize.naturalsize( psutil.virtual_memory().available ), \" | Proc size: \" + humanize.naturalsize( process.memory_info().rss))\n",
        " print(\"GPU RAM Free: {0:.0f}MB | Used: {1:.0f}MB | Util {2:3.0f}% | Total {3:.0f}MB\".format(gpu.memoryFree, gpu.memoryUsed, gpu.memoryUtil*100, gpu.memoryTotal))\n",
        "printm()"
      ],
      "execution_count": 0,
      "outputs": []
    },
    {
      "cell_type": "markdown",
      "metadata": {
        "id": "Kx-6TaKt8dVK",
        "colab_type": "text"
      },
      "source": [
        "###Important Notes\n",
        "\n",
        "####Always read and display images using matplotlib fuctions"
      ]
    },
    {
      "cell_type": "code",
      "metadata": {
        "id": "PEuBrO3B8nh3",
        "colab_type": "code",
        "colab": {}
      },
      "source": [
        "import cv2\n",
        "import numpy as np\n",
        "from keras.models import load_model\n",
        "import matplotlib.pyplot as plt\n",
        "import matplotlib.image as img\n",
        "\n",
        "image_dim = 24\n",
        "image = img.imread(\"/content/drive/My Drive/20180319_165056.jpg\")\n",
        "plt.imshow(image)"
      ],
      "execution_count": 0,
      "outputs": []
    },
    {
      "cell_type": "markdown",
      "metadata": {
        "id": "ZSsPCj_39FSJ",
        "colab_type": "text"
      },
      "source": [
        "####Always change the Hardware Accelerator to GPU before mouting your Drive"
      ]
    },
    {
      "cell_type": "markdown",
      "metadata": {
        "id": "XublKyYy9OwJ",
        "colab_type": "text"
      },
      "source": [
        "![GPU](https://cdn-images-1.medium.com/max/1600/1*WNovJnpGMOys8Rv7YIsZzA.png)"
      ]
    },
    {
      "cell_type": "markdown",
      "metadata": {
        "id": "2FzXxC5_KKNu",
        "colab_type": "text"
      },
      "source": [
        "### To rename multiple items in a directory"
      ]
    },
    {
      "cell_type": "code",
      "metadata": {
        "id": "lEw6YOBEKO70",
        "colab_type": "code",
        "colab": {}
      },
      "source": [
        "# importing os module \n",
        "\n",
        "import os \n",
        "\n",
        "# Changing the directory to th required directory\n",
        "os.chdir(\"/content/drive/My Drive/AI/DL/Image Segmentation/TUD/masks/sideviews-cars\")\n",
        "print(os.getcwd())\n",
        "\n",
        "os.mkdir(\"Car\")\n",
        "  \n",
        "# Function to rename multiple files \n",
        "def rename_multiple_files(): \n",
        "    i = 0\n",
        "      \n",
        "    for file in os.listdir(\"/content/drive/My Drive/AI/DL/Image Segmentation/TUD/masks/sideviews-cars\"): \n",
        "        renamed_file =\"Car/car_\" + str(i) + \".jpg\"\n",
        "        src = file \n",
        "        dst = renamed_file \n",
        "          \n",
        "        # rename() function will rename all the files \n",
        "        os.rename(src, dst) \n",
        "        i += 1\n",
        "  \n",
        "rename_multiple_files()"
      ],
      "execution_count": 0,
      "outputs": []
    },
    {
      "cell_type": "markdown",
      "metadata": {
        "id": "OiMjlye_ojFc",
        "colab_type": "text"
      },
      "source": [
        "## Coloring the console output"
      ]
    },
    {
      "cell_type": "code",
      "metadata": {
        "id": "7-M17cWsoi27",
        "colab_type": "code",
        "colab": {
          "base_uri": "https://localhost:8080/",
          "height": 122
        },
        "outputId": "fc7eabf5-78f1-46a9-f62e-90bc4caaa1eb"
      },
      "source": [
        "class color:\n",
        "    PURPLE = '\\033[95m'\n",
        "    CYAN = '\\033[96m'\n",
        "    DARKCYAN = '\\033[36m'\n",
        "    BLUE = '\\033[94m'\n",
        "    GREEN = '\\033[92m'\n",
        "    YELLOW = '\\033[93m'\n",
        "    RED = '\\033[91m'\n",
        "    BOLD = '\\033[1m'\n",
        "    UNDERLINE = '\\033[4m'\n",
        "    END = '\\033[0m'\n",
        "\n",
        "# Prining just one line with colors    \n",
        "print (color.BLUE + 'Hello World !' + color.END)\n",
        "print('Hello')\n",
        "\n",
        "# Printing multiple lines with color\n",
        "print (color.GREEN)\n",
        "print('Hello World !')\n",
        "print('ARK here !')\n",
        "print (color.END)"
      ],
      "execution_count": 1,
      "outputs": [
        {
          "output_type": "stream",
          "text": [
            "\u001b[94mHello World !\u001b[0m\n",
            "Hello\n",
            "\u001b[92m\n",
            "Hello World !\n",
            "ARK here !\n",
            "\u001b[0m\n"
          ],
          "name": "stdout"
        }
      ]
    }
  ]
}